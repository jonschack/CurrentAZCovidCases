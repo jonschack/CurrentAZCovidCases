{
 "cells": [
  {
   "cell_type": "markdown",
   "metadata": {},
   "source": [
    "# Current COVID-19 Cases in Arizona by Zip Code\n",
    "#### From May 3rd to May 6th, 2020"
   ]
  },
  {
   "cell_type": "markdown",
   "metadata": {},
   "source": [
    "The Arizona Department of Health Services (ADHS) maintains a data set of confirmed Arizona COVID-19 cases by Zip Code of the patient's residence. However, though the data set is updated once per day, no historical data is maintained and recovered cases are either not tracked or not removed from the data set. This makes the ADHS \"COVID-19 Cases by Zip Code\" map not practically useful for measuring current case loads by zip code.\n",
    "\n",
    "For this reason I will retrieve the data set once per day for three days in an attempt to measure the current case loads by zip codes in Arizona. I will then agglomerate and visualize this data such that a resident could easily understand how their zip code is currently affected by COVID-19 and therefore plan their errands accordingly. For the visualizations, both the *pandas* and *geopandas* Python packages will be used."
   ]
  },
  {
   "cell_type": "code",
   "execution_count": 1,
   "metadata": {},
   "outputs": [
    {
     "ename": "AttributeError",
     "evalue": "module 'matplotlib' has no attribute 'style'",
     "output_type": "error",
     "traceback": [
      "\u001b[1;31m---------------------------------------------------------------------------\u001b[0m",
      "\u001b[1;31mAttributeError\u001b[0m                            Traceback (most recent call last)",
      "\u001b[1;32m<ipython-input-1-b09db1ae2fda>\u001b[0m in \u001b[0;36m<module>\u001b[1;34m\u001b[0m\n\u001b[0;32m      3\u001b[0m \u001b[1;32mimport\u001b[0m \u001b[0mdescartes\u001b[0m\u001b[1;33m\u001b[0m\u001b[1;33m\u001b[0m\u001b[0m\n\u001b[0;32m      4\u001b[0m \u001b[1;32mimport\u001b[0m \u001b[0mmatplotlib\u001b[0m\u001b[1;33m\u001b[0m\u001b[1;33m\u001b[0m\u001b[0m\n\u001b[1;32m----> 5\u001b[1;33m \u001b[0mmatplotlib\u001b[0m\u001b[1;33m.\u001b[0m\u001b[0mstyle\u001b[0m\u001b[1;33m.\u001b[0m\u001b[0muse\u001b[0m\u001b[1;33m(\u001b[0m\u001b[1;34m'ggplot'\u001b[0m\u001b[1;33m)\u001b[0m\u001b[1;33m\u001b[0m\u001b[1;33m\u001b[0m\u001b[0m\n\u001b[0m\u001b[0;32m      6\u001b[0m \u001b[1;32mimport\u001b[0m \u001b[0mmatplotlib\u001b[0m\u001b[1;33m.\u001b[0m\u001b[0mpyplot\u001b[0m \u001b[1;32mas\u001b[0m \u001b[0mplt\u001b[0m\u001b[1;33m\u001b[0m\u001b[1;33m\u001b[0m\u001b[0m\n\u001b[0;32m      7\u001b[0m \u001b[1;32mfrom\u001b[0m \u001b[0mshapely\u001b[0m\u001b[1;33m.\u001b[0m\u001b[0mgeometry\u001b[0m \u001b[1;32mimport\u001b[0m \u001b[0mPoint\u001b[0m\u001b[1;33m,\u001b[0m \u001b[0mPolygon\u001b[0m\u001b[1;33m\u001b[0m\u001b[1;33m\u001b[0m\u001b[0m\n",
      "\u001b[1;31mAttributeError\u001b[0m: module 'matplotlib' has no attribute 'style'"
     ]
    }
   ],
   "source": [
    "import pandas as pd\n",
    "import geopandas as gpd\n",
    "import descartes\n",
    "import matplotlib\n",
    "import matplotlib.pyplot as plt\n",
    "from shapely.geometry import Point, Polygon\n",
    "import math\n",
    "matplotlib.style.use('ggplot')\n",
    "\n",
    "dayOne = pd.read_csv('COVID19CONFIRMED_BYZIP_excel.csv')\n",
    "dayTwo = pd.read_csv('COVID19CONFIRMED_BYZIP_excel2.csv')\n",
    "dayThree = pd.read_csv('COVID19CONFIRMED_BYZIP_excel3.csv')\n",
    "ZipCities = pd.read_csv('AZZipCities.csv')\n",
    "dayOne"
   ]
  },
  {
   "cell_type": "markdown",
   "metadata": {},
   "source": [
    "    A subset of the raw data used in this report is shown above.\n",
    "\n",
    "### **Assumptions**\n",
    "\n",
    "For zip codes with less than ten confirmed cases, for some reason the exact case count is either not known or not reported and a range is given. For this reason, I will only consider zip codes with more than ten cases on the first day. There are also certain zip codes where the case numbers are listed as *Suppressed* by ADHS and not reported (these seem to be zip codes with very high case numbers!), which I also cannot consider."
   ]
  },
  {
   "cell_type": "code",
   "execution_count": null,
   "metadata": {},
   "outputs": [],
   "source": [
    "#Drop unncessary case category columns\n",
    "dayOne = dayOne.drop(columns=['ConfirmedCaseCategory'],axis=1)\n",
    "dayTwo = dayTwo.drop(columns=['ConfirmedCaseCategory'],axis=1)\n",
    "dayThree = dayThree.drop(columns=['ConfirmedCaseCategory'],axis=1)"
   ]
  },
  {
   "cell_type": "code",
   "execution_count": null,
   "metadata": {
    "scrolled": true
   },
   "outputs": [],
   "source": [
    "#Join days 1-3 tables\n",
    "firstJoin = pd.merge(dayTwo, dayThree, on='POSTCODE',suffixes=('2','3'))\n",
    "secondJoin = pd.merge(dayOne, firstJoin, on='POSTCODE')\n",
    "\n",
    "#Join cities\n",
    "dayOneToThree = pd.merge(ZipCities, secondJoin, on='POSTCODE')\n",
    "\n",
    "#Drop cases < 10 or suppressed\n",
    "for index, row in dayOneToThree.iterrows():\n",
    "    if '-' in row['ConfirmedCaseCount']:\n",
    "        dayOneToThree.drop(index, inplace=True)\n",
    "    elif row['ConfirmedCaseCount'] == '0':\n",
    "        dayOneToThree.drop(index, inplace=True)\n",
    "    elif row['ConfirmedCaseCount'] == 'Data Suppressed':\n",
    "        dayOneToThree.drop(index, inplace=True)\n",
    "\n",
    "#Convert case numbers to ints\n",
    "caseNumberColumns = ['ConfirmedCaseCount','ConfirmedCaseCount2','ConfirmedCaseCount3']\n",
    "dayOneToThree[caseNumberColumns] = dayOneToThree[caseNumberColumns].astype(int)\n",
    "\n",
    "#Add net change column\n",
    "dayOneToThree['Net Change'] = dayOneToThree['ConfirmedCaseCount3'] - dayOneToThree['ConfirmedCaseCount']\n",
    "\n",
    "#Add percentage change column\n",
    "dayOneToThree['% Change'] = 100*(dayOneToThree['ConfirmedCaseCount3'] / dayOneToThree['ConfirmedCaseCount'])\n",
    "\n",
    "#sort\n",
    "dayOneToThree = dayOneToThree.sort_values(by='% Change', ascending=False)\n",
    "\n",
    "#with pd.option_context('display.max_rows', None, 'display.max_columns', None):\n",
    "display(dayOneToThree)"
   ]
  },
  {
   "cell_type": "markdown",
   "metadata": {},
   "source": [
    "Above, I have joined the past three days of reported cases into one table and have added three new columns:\n",
    "1. **City** : city that the zip code is located in\n",
    "2. **Net Change** : cumulative number of new confirmed cases across day 2 and day 3\n",
    "3. **% Change** : ratio of day1:day3 case numbers, represents growth rate"
   ]
  },
  {
   "cell_type": "code",
   "execution_count": null,
   "metadata": {
    "scrolled": true
   },
   "outputs": [],
   "source": [
    "byCity = dayOneToThree.groupby('City').sum().reset_index()\n",
    "byCity = byCity.sort_values(by='Net Change', ascending=False)\n",
    "\n",
    "byCityTopTenPlot = byCity['Net Change'].head(10).plot.bar(rot=60)\n",
    "byCityTopTenPlot.set_xticklabels(byCity.City)\n",
    "byCityTopTenPlot.set_title('Top 10 Cities: Number of Cases Added')"
   ]
  },
  {
   "cell_type": "markdown",
   "metadata": {},
   "source": [
    "Above, I have plotted the ten cities in AZ with the highest **Net Change** in the past 2 days."
   ]
  },
  {
   "cell_type": "code",
   "execution_count": null,
   "metadata": {
    "scrolled": true
   },
   "outputs": [],
   "source": [
    "byCity2 = dayOneToThree.groupby('City').mean().reset_index()\n",
    "byCity2 = byCity.sort_values(by='% Change', ascending=False)\n",
    "\n",
    "byCity2TopTenPlot = byCity['% Change'].head(10).plot.bar(rot=60)\n",
    "byCity2TopTenPlot.set_xticklabels(byCity2.City)\n",
    "byCity2TopTenPlot.set_title('Top 10 Cities: Growth Rate')"
   ]
  },
  {
   "cell_type": "markdown",
   "metadata": {},
   "source": [
    "Above, I have plotted the ten cities in AZ with the highest **% Change** in the past 2 days.\n",
    "\n",
    "Based on this, it would seem as though residents of Cottonwood, AZ should exercise extreme caution."
   ]
  },
  {
   "cell_type": "code",
   "execution_count": null,
   "metadata": {
    "scrolled": true
   },
   "outputs": [],
   "source": [
    "onlyNetChange = dayOneToThree[['POSTCODE', 'Net Change']].copy()#.rename({'POSTCODE':'Name'}, axis=1)\n",
    "\n",
    "azMap = gpd.read_file(r'C:\\Users\\hi\\OneDrive - Arizona State University\\STP 494\\Project 2\\ZipsShape\\Zips3.shp')\n",
    "azMap['POSTCODE'] = azMap['Name'].values.astype(int)\n",
    "\n",
    "azNetChange = azMap.merge(onlyNetChange, on='POSTCODE')\n",
    "fix,ax = plt.subplots(figsize = (20,20))\n",
    "azNetChange.plot(ax=ax,cmap='Oranges',\n",
    "                 edgecolor='black',\n",
    "                 column='Net Change',\n",
    "                 legend=True,\n",
    "                 legend_kwds={'label':'Number of New Covid-19 Cases in Past Two Days (Phoenix Metro Area)',\n",
    "                             'orientation':'horizontal'})"
   ]
  },
  {
   "cell_type": "markdown",
   "metadata": {},
   "source": [
    "Above, I have joined the **Net Change** values to a geographic map of Phoenix metro-area zip codes and applied a white-red colormap. The darker the red, the higher the **Net Change** value. Double click on the map to enlarge."
   ]
  },
  {
   "cell_type": "code",
   "execution_count": null,
   "metadata": {
    "scrolled": true
   },
   "outputs": [],
   "source": [
    "onlyPChange = dayOneToThree[['POSTCODE', '% Change']].copy()\n",
    "\n",
    "azPChange = azMap.merge(onlyPChange, on='POSTCODE')\n",
    "fix,ax = plt.subplots(figsize = (20,20))\n",
    "azPChange.plot(ax=ax,cmap='Oranges',\n",
    "                 edgecolor='black',\n",
    "                 column='% Change',\n",
    "                 legend=True,\n",
    "                 legend_kwds={'label':'Covid-19 Cases % Growth in Past 2 Days (Phoenix Metro Area)',\n",
    "                             'orientation':'horizontal'})"
   ]
  },
  {
   "cell_type": "markdown",
   "metadata": {},
   "source": [
    "Above, I have joined the **% Change** values to a geographic map of Phoenix metro-area zip codes and applied a white-red colormap. The darker the red, the higher the **% Change** value. Double click on the map to enlarge."
   ]
  },
  {
   "cell_type": "markdown",
   "metadata": {},
   "source": [
    "### **Conclusion**\n",
    "\n",
    "In summary, we have agglomerated and visualized the recently reported COVID-19 cases in Arizona. Based on our visualizations, we learned that Cottonwood, AZ is experiencing an extreme surge in cases and would therefore suggest residents of Cottonwood plan their errands accordingly. We also created two infection heat maps on a geographic map of the Phoenix metro area so that a resident of Phoenix might easily see how the state of infection in their community has changed over the past two days.\n",
    "\n",
    "Thank you for reading! We hope you have found this helpful."
   ]
  },
  {
   "cell_type": "markdown",
   "metadata": {},
   "source": [
    "### References\n",
    "\n",
    "Arizona COVID-19 data \"CVD_ZIPS_FORWEBMAP\" retrieved from:\n",
    "https://services1.arcgis.com/mpVYz37anSdrK4d8/arcgis/rest/services/CVD_ZIPS_FORWEBMAP/FeatureServer\n",
    "\n",
    "Phoenix Zip Codes Map KML file used to create .shp file. retrieved from:\n",
    "https://phoenix.org/maps/zip-code-map/\n",
    "\n",
    "Arizona Zip Codes List retrieved from:\n",
    "https://data.mongabay.com/igapo/zip_codes/AZ.htm"
   ]
  }
 ],
 "metadata": {
  "kernelspec": {
   "display_name": "Python 3",
   "language": "python",
   "name": "python3"
  },
  "language_info": {
   "codemirror_mode": {
    "name": "ipython",
    "version": 3
   },
   "file_extension": ".py",
   "mimetype": "text/x-python",
   "name": "python",
   "nbconvert_exporter": "python",
   "pygments_lexer": "ipython3",
   "version": "3.7.6"
  }
 },
 "nbformat": 4,
 "nbformat_minor": 2
}
